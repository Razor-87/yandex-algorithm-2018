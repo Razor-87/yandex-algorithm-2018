{
 "cells": [
  {
   "cell_type": "code",
   "execution_count": 1,
   "metadata": {},
   "outputs": [],
   "source": [
    "import numpy as np\n",
    "import pandas as pd\n",
    "from sklearn.feature_extraction.text import TfidfVectorizer\n",
    "from sklearn.linear_model import Ridge, SGDRegressor, HuberRegressor\n",
    "from sklearn.model_selection import RandomizedSearchCV, cross_val_score, KFold, ShuffleSplit\n",
    "import sklearn.metrics as mr\n",
    "from scipy.sparse import hstack\n",
    "from string import punctuation\n",
    "\n",
    "def make_words(s: str) -> str:\n",
    "    s = \"\".join(c for c in s if c not in punctuation)\n",
    "    return \"\".join(s.strip('-;:!,.\"nan♪¶†—-'))"
   ]
  },
  {
   "cell_type": "code",
   "execution_count": 2,
   "metadata": {},
   "outputs": [],
   "source": [
    "df = pd.read_csv('train.tsv', \n",
    "                   names=['context_id', 'context_2', 'context_1', 'context_0', 'reply_id', 'reply', 'label', 'confidence'],\n",
    "                   header=None, sep='\\t', quoting=3)"
   ]
  },
  {
   "cell_type": "code",
   "execution_count": 3,
   "metadata": {},
   "outputs": [],
   "source": [
    "data_final = pd.read_csv('final.tsv',\n",
    "                         sep='\\t', quoting=3, error_bad_lines=False, header=None,\n",
    "                         names=['context_id', 'context_2', 'context_1', 'context_0', 'reply_id', 'reply'])"
   ]
  },
  {
   "cell_type": "code",
   "execution_count": 4,
   "metadata": {},
   "outputs": [],
   "source": [
    "data_final['context_2'] = data_final['context_2'].astype('str').apply(make_words)\n",
    "data_final['context_1'] = data_final['context_1'].astype('str').apply(make_words)\n",
    "data_final['context_0'] = data_final['context_0'].astype('str').apply(make_words)\n",
    "data_final['reply'] = data_final['reply'].astype('str').apply(make_words)\n",
    "\n",
    "context_2 = data_final['context_2']\n",
    "context_1 = data_final['context_1']\n",
    "context_0 = data_final['context_0']\n",
    "context_total = context_2 + context_1 + context_0\n",
    "data_final.insert(loc=4, column='context_total', value=context_total)\n",
    "\n",
    "data_final = data_final.drop(['context_2', 'context_1', 'context_0'], axis=1)\n",
    "\n",
    "data_final['context_total'] = data_final['context_total'].str.strip().str.replace('€', 'я').str.replace('ќх', 'ох').str.replace('ќт', 'от').str.replace('ќн', 'он').str.replace('ѕою', 'бою').str.replace('ѕег', 'бег').str.replace('ѕросай', 'бросай').str.replace('ѕоб', 'боб').str.replace('ѕольше', 'больше').str.replace('sа', 'па').str.replace('ѕо', 'по').str.replace('ѕр', 'пр').str.replace('ќ', 'н').str.replace('¬', 'в').str.replace('\" то', 'что').str.replace('\" ы', 'ты').str.replace(\"' о\", 'хо').str.replace('\" а', 'та').str.replace('ƒ', 'д').str.replace('√', 'г').str.replace('ьi', 'ы').str.replace('ћад', 'лад').str.replace('ћ', 'м').str.replace('hо', 'но').str.replace('hу', 'ну').str.replace('∆', 'ж').str.replace('j', 'a').str.replace('≈', 'е').str.replace('tр', 'тр').str.replace('bс', 'вс').str.replace('bи', 'ви')\n",
    "# data_final['context_2'] = data_final['context_2'].str.strip().str.replace('€', 'я').str.replace('ќх', 'ох').str.replace('ќт', 'от').str.replace('ќн', 'он').str.replace('ѕою', 'бою').str.replace('ѕег', 'бег').str.replace('ѕросай', 'бросай').str.replace('ѕоб', 'боб').str.replace('ѕольше', 'больше').str.replace('sа', 'па').str.replace('ѕо', 'по').str.replace('ѕр', 'пр').str.replace('ќ', 'н').str.replace('¬', 'в').str.replace('\" то', 'что').str.replace('\" ы', 'ты').str.replace(\"' о\", 'хо').str.replace('\" а', 'та').str.replace('ƒ', 'д').str.replace('√', 'г').str.replace('ьi', 'ы').str.replace('ћад', 'лад').str.replace('ћ', 'м').str.replace('hо', 'но').str.replace('hу', 'ну').str.replace('∆', 'ж').str.replace('j', 'a').str.replace('≈', 'е').str.replace('tр', 'тр').str.replace('bс', 'вс').str.replace('bи', 'ви')\n",
    "# data_final['context_1'] = data_final['context_1'].str.strip().str.replace('€', 'я').str.replace('ќх', 'ох').str.replace('ќт', 'от').str.replace('ќн', 'он').str.replace('ѕою', 'бою').str.replace('ѕег', 'бег').str.replace('ѕросай', 'бросай').str.replace('ѕоб', 'боб').str.replace('ѕольше', 'больше').str.replace('sа', 'па').str.replace('ѕо', 'по').str.replace('ѕр', 'пр').str.replace('ќ', 'н').str.replace('¬', 'в').str.replace('\" то', 'что').str.replace('\" ы', 'ты').str.replace(\"' о\", 'хо').str.replace('\" а', 'та').str.replace('ƒ', 'д').str.replace('√', 'г').str.replace('ьi', 'ы').str.replace('ћад', 'лад').str.replace('ћ', 'м').str.replace('hо', 'но').str.replace('hу', 'ну').str.replace('∆', 'ж').str.replace('j', 'a').str.replace('≈', 'е').str.replace('tр', 'тр').str.replace('bс', 'вс').str.replace('bи', 'ви')\n",
    "# data_final['context_0'] = data_final['context_0'].str.strip().str.replace('€', 'я').str.replace('ќх', 'ох').str.replace('ќт', 'от').str.replace('ќн', 'он').str.replace('ѕою', 'бою').str.replace('ѕег', 'бег').str.replace('ѕросай', 'бросай').str.replace('ѕоб', 'боб').str.replace('ѕольше', 'больше').str.replace('sа', 'па').str.replace('ѕо', 'по').str.replace('ѕр', 'пр').str.replace('ќ', 'н').str.replace('¬', 'в').str.replace('\" то', 'что').str.replace('\" ы', 'ты').str.replace(\"' о\", 'хо').str.replace('\" а', 'та').str.replace('ƒ', 'д').str.replace('√', 'г').str.replace('ьi', 'ы').str.replace('ћад', 'лад').str.replace('ћ', 'м').str.replace('hо', 'но').str.replace('hу', 'ну').str.replace('∆', 'ж').str.replace('j', 'a').str.replace('≈', 'е').str.replace('tр', 'тр').str.replace('bс', 'вс').str.replace('bи', 'ви')\n",
    "data_final['reply'] = data_final['reply'].str.strip().str.replace('€', 'я').str.replace('ќх', 'ох').str.replace('ќт', 'от').str.replace('ќн', 'он').str.replace('ѕою', 'бою').str.replace('ѕег', 'бег').str.replace('ѕросай', 'бросай').str.replace('ѕоб', 'боб').str.replace('ѕольше', 'больше').str.replace('sа', 'па').str.replace('ѕо', 'по').str.replace('ѕр', 'пр').str.replace('ќ', 'н').str.replace('¬', 'в').str.replace('\" то', 'что').str.replace('\" ы', 'ты').str.replace(\"' о\", 'хо').str.replace('\" а', 'та').str.replace('ƒ', 'д').str.replace('√', 'г').str.replace('ьi', 'ы').str.replace('ћад', 'лад').str.replace('ћ', 'м').str.replace('hо', 'но').str.replace('hу', 'ну').str.replace('∆', 'ж').str.replace('j', 'a').str.replace('≈', 'е').str.replace('tр', 'тр').str.replace('bс', 'вс').str.replace('bи', 'ви')\n",
    "\n",
    "reply_id = data_final['reply_id']\n",
    "data_final = data_final.drop(['reply_id'], axis=1)\n",
    "data_final.insert(loc=1, column='reply_id', value=reply_id)"
   ]
  },
  {
   "cell_type": "code",
   "execution_count": 5,
   "metadata": {},
   "outputs": [
    {
     "data": {
      "text/html": [
       "<div>\n",
       "<style scoped>\n",
       "    .dataframe tbody tr th:only-of-type {\n",
       "        vertical-align: middle;\n",
       "    }\n",
       "\n",
       "    .dataframe tbody tr th {\n",
       "        vertical-align: top;\n",
       "    }\n",
       "\n",
       "    .dataframe thead th {\n",
       "        text-align: right;\n",
       "    }\n",
       "</style>\n",
       "<table border=\"1\" class=\"dataframe\">\n",
       "  <thead>\n",
       "    <tr style=\"text-align: right;\">\n",
       "      <th></th>\n",
       "      <th>context_id</th>\n",
       "      <th>reply_id</th>\n",
       "      <th>context_total</th>\n",
       "      <th>reply</th>\n",
       "    </tr>\n",
       "  </thead>\n",
       "  <tbody>\n",
       "    <tr>\n",
       "      <th>21441</th>\n",
       "      <td>56259420367731</td>\n",
       "      <td>1</td>\n",
       "      <td>пожалуйста  джонас  называйте меня дениз я пре...</td>\n",
       "      <td>буду знать</td>\n",
       "    </tr>\n",
       "    <tr>\n",
       "      <th>33966</th>\n",
       "      <td>90723199992080</td>\n",
       "      <td>4</td>\n",
       "      <td>чтобы убедиться  что ваши людиявляются лучшим ...</td>\n",
       "      <td>нет  президент  не думаю  что вы сможете</td>\n",
       "    </tr>\n",
       "    <tr>\n",
       "      <th>76930</th>\n",
       "      <td>205369554706218</td>\n",
       "      <td>2</td>\n",
       "      <td>никакие</td>\n",
       "      <td>ты помер</td>\n",
       "    </tr>\n",
       "    <tr>\n",
       "      <th>41570</th>\n",
       "      <td>111466072549048</td>\n",
       "      <td>4</td>\n",
       "      <td>ты подвергал детей опасности уходи немедленно ...</td>\n",
       "      <td>вечером</td>\n",
       "    </tr>\n",
       "    <tr>\n",
       "      <th>8205</th>\n",
       "      <td>22021000338340</td>\n",
       "      <td>3</td>\n",
       "      <td>хорошо  и так  что мы будем делать дальше знае...</td>\n",
       "      <td>в течение последних нескольких месяцев я вел с...</td>\n",
       "    </tr>\n",
       "    <tr>\n",
       "      <th>6568</th>\n",
       "      <td>17631231360111</td>\n",
       "      <td>2</td>\n",
       "      <td>ни в чём не обвиняю я говорю  что ты умный</td>\n",
       "      <td>очень умен  умна</td>\n",
       "    </tr>\n",
       "    <tr>\n",
       "      <th>89450</th>\n",
       "      <td>239182021063826</td>\n",
       "      <td>5</td>\n",
       "      <td>сначала они берутся за ножи  потом за пистолет...</td>\n",
       "      <td>не мне и тебе</td>\n",
       "    </tr>\n",
       "    <tr>\n",
       "      <th>76413</th>\n",
       "      <td>203757812151067</td>\n",
       "      <td>2</td>\n",
       "      <td>запускайте подземный бур начинайте вход в земн...</td>\n",
       "      <td>мы проверяем пятый этаж</td>\n",
       "    </tr>\n",
       "    <tr>\n",
       "      <th>77565</th>\n",
       "      <td>206979100151639</td>\n",
       "      <td>2</td>\n",
       "      <td>правильно тянуть соломинку с профессиональным ...</td>\n",
       "      <td>потому что это вздор</td>\n",
       "    </tr>\n",
       "    <tr>\n",
       "      <th>40213</th>\n",
       "      <td>107816846678577</td>\n",
       "      <td>5</td>\n",
       "      <td>если она узнает  что меня допрашивали о парне ...</td>\n",
       "      <td>я спокоен</td>\n",
       "    </tr>\n",
       "  </tbody>\n",
       "</table>\n",
       "</div>"
      ],
      "text/plain": [
       "            context_id  reply_id  \\\n",
       "21441   56259420367731         1   \n",
       "33966   90723199992080         4   \n",
       "76930  205369554706218         2   \n",
       "41570  111466072549048         4   \n",
       "8205    22021000338340         3   \n",
       "6568    17631231360111         2   \n",
       "89450  239182021063826         5   \n",
       "76413  203757812151067         2   \n",
       "77565  206979100151639         2   \n",
       "40213  107816846678577         5   \n",
       "\n",
       "                                           context_total  \\\n",
       "21441  пожалуйста  джонас  называйте меня дениз я пре...   \n",
       "33966  чтобы убедиться  что ваши людиявляются лучшим ...   \n",
       "76930                                            никакие   \n",
       "41570  ты подвергал детей опасности уходи немедленно ...   \n",
       "8205   хорошо  и так  что мы будем делать дальше знае...   \n",
       "6568          ни в чём не обвиняю я говорю  что ты умный   \n",
       "89450  сначала они берутся за ножи  потом за пистолет...   \n",
       "76413  запускайте подземный бур начинайте вход в земн...   \n",
       "77565  правильно тянуть соломинку с профессиональным ...   \n",
       "40213  если она узнает  что меня допрашивали о парне ...   \n",
       "\n",
       "                                                   reply  \n",
       "21441                                         буду знать  \n",
       "33966           нет  президент  не думаю  что вы сможете  \n",
       "76930                                           ты помер  \n",
       "41570                                            вечером  \n",
       "8205   в течение последних нескольких месяцев я вел с...  \n",
       "6568                                    очень умен  умна  \n",
       "89450                                      не мне и тебе  \n",
       "76413                            мы проверяем пятый этаж  \n",
       "77565                               потому что это вздор  \n",
       "40213                                          я спокоен  "
      ]
     },
     "execution_count": 5,
     "metadata": {},
     "output_type": "execute_result"
    }
   ],
   "source": [
    "data_final.sample(10)"
   ]
  },
  {
   "cell_type": "code",
   "execution_count": 6,
   "metadata": {},
   "outputs": [],
   "source": [
    "df['context_2'] = df['context_2'].astype('str').apply(make_words)\n",
    "df['context_1'] = df['context_1'].astype('str').apply(make_words)\n",
    "df['context_0'] = df['context_0'].astype('str').apply(make_words)\n",
    "df['reply'] = df['reply'].astype('str').apply(make_words)\n",
    "\n",
    "context_2 = df['context_2']\n",
    "context_1 = df['context_1']\n",
    "context_0 = df['context_0']\n",
    "context_total = context_2 + context_1 + context_0\n",
    "df.insert(loc=4, column='context_total', value=context_total)\n",
    "\n",
    "df = df.drop(['context_2', 'context_1', 'context_0'], axis=1)\n",
    "\n",
    "df['context_total'] = df['context_total'].str.strip().str.replace('€', 'я').str.replace('ќх', 'ох').str.replace('ќт', 'от').str.replace('ќн', 'он').str.replace('ѕою', 'бою').str.replace('ѕег', 'бег').str.replace('ѕросай', 'бросай').str.replace('ѕоб', 'боб').str.replace('ѕольше', 'больше').str.replace('sа', 'па').str.replace('ѕо', 'по').str.replace('ѕр', 'пр').str.replace('ќ', 'н').str.replace('¬', 'в').str.replace('\" то', 'что').str.replace('\" ы', 'ты').str.replace(\"' о\", 'хо').str.replace('\" а', 'та').str.replace('ƒ', 'д').str.replace('√', 'г').str.replace('ьi', 'ы').str.replace('ћад', 'лад').str.replace('ћ', 'м').str.replace('hо', 'но').str.replace('hу', 'ну').str.replace('∆', 'ж').str.replace('j', 'a').str.replace('≈', 'е').str.replace('tр', 'тр').str.replace('bс', 'вс').str.replace('bи', 'ви')\n",
    "# df['context_2'] = df['context_2'].str.strip().str.replace('€', 'я').str.replace('ќх', 'ох').str.replace('ќт', 'от').str.replace('ќн', 'он').str.replace('ѕою', 'бою').str.replace('ѕег', 'бег').str.replace('ѕросай', 'бросай').str.replace('ѕоб', 'боб').str.replace('ѕольше', 'больше').str.replace('sа', 'па').str.replace('ѕо', 'по').str.replace('ѕр', 'пр').str.replace('ќ', 'н').str.replace('¬', 'в').str.replace('\" то', 'что').str.replace('\" ы', 'ты').str.replace(\"' о\", 'хо').str.replace('\" а', 'та').str.replace('ƒ', 'д').str.replace('√', 'г').str.replace('ьi', 'ы').str.replace('ћад', 'лад').str.replace('ћ', 'м').str.replace('hо', 'но').str.replace('hу', 'ну').str.replace('∆', 'ж').str.replace('j', 'a').str.replace('≈', 'е').str.replace('tр', 'тр').str.replace('bс', 'вс').str.replace('bи', 'ви')\n",
    "# df['context_1'] = df['context_1'].str.strip().str.replace('€', 'я').str.replace('ќх', 'ох').str.replace('ќт', 'от').str.replace('ќн', 'он').str.replace('ѕою', 'бою').str.replace('ѕег', 'бег').str.replace('ѕросай', 'бросай').str.replace('ѕоб', 'боб').str.replace('ѕольше', 'больше').str.replace('sа', 'па').str.replace('ѕо', 'по').str.replace('ѕр', 'пр').str.replace('ќ', 'н').str.replace('¬', 'в').str.replace('\" то', 'что').str.replace('\" ы', 'ты').str.replace(\"' о\", 'хо').str.replace('\" а', 'та').str.replace('ƒ', 'д').str.replace('√', 'г').str.replace('ьi', 'ы').str.replace('ћад', 'лад').str.replace('ћ', 'м').str.replace('hо', 'но').str.replace('hу', 'ну').str.replace('∆', 'ж').str.replace('j', 'a').str.replace('≈', 'е').str.replace('tр', 'тр').str.replace('bс', 'вс').str.replace('bи', 'ви')\n",
    "# df['context_0'] = df['context_0'].str.strip().str.replace('€', 'я').str.replace('ќх', 'ох').str.replace('ќт', 'от').str.replace('ќн', 'он').str.replace('ѕою', 'бою').str.replace('ѕег', 'бег').str.replace('ѕросай', 'бросай').str.replace('ѕоб', 'боб').str.replace('ѕольше', 'больше').str.replace('sа', 'па').str.replace('ѕо', 'по').str.replace('ѕр', 'пр').str.replace('ќ', 'н').str.replace('¬', 'в').str.replace('\" то', 'что').str.replace('\" ы', 'ты').str.replace(\"' о\", 'хо').str.replace('\" а', 'та').str.replace('ƒ', 'д').str.replace('√', 'г').str.replace('ьi', 'ы').str.replace('ћад', 'лад').str.replace('ћ', 'м').str.replace('hо', 'но').str.replace('hу', 'ну').str.replace('∆', 'ж').str.replace('j', 'a').str.replace('≈', 'е').str.replace('tр', 'тр').str.replace('bс', 'вс').str.replace('bи', 'ви')\n",
    "df['reply'] = df['reply'].str.strip().str.replace('€', 'я').str.replace('ќх', 'ох').str.replace('ќт', 'от').str.replace('ќн', 'он').str.replace('ѕою', 'бою').str.replace('ѕег', 'бег').str.replace('ѕросай', 'бросай').str.replace('ѕоб', 'боб').str.replace('ѕольше', 'больше').str.replace('sа', 'па').str.replace('ѕо', 'по').str.replace('ѕр', 'пр').str.replace('ќ', 'н').str.replace('¬', 'в').str.replace('\" то', 'что').str.replace('\" ы', 'ты').str.replace(\"' о\", 'хо').str.replace('\" а', 'та').str.replace('ƒ', 'д').str.replace('√', 'г').str.replace('ьi', 'ы').str.replace('ћад', 'лад').str.replace('ћ', 'м').str.replace('hо', 'но').str.replace('hу', 'ну').str.replace('∆', 'ж').str.replace('j', 'a').str.replace('≈', 'е').str.replace('tр', 'тр').str.replace('bс', 'вс').str.replace('bи', 'ви')\n",
    "\n",
    "reply_id = df['reply_id']\n",
    "df = df.drop(['reply_id'], axis=1)\n",
    "df.insert(loc=1, column='reply_id', value=reply_id)"
   ]
  },
  {
   "cell_type": "code",
   "execution_count": 7,
   "metadata": {},
   "outputs": [],
   "source": [
    "# df['label'] = df['label'].replace({'good': 1, 'neutral': 0.1, 'bad': 0.01})\n",
    "# df['label'] = df['label'].replace({'good': 2, 'neutral': 1, 'bad': 0})\n",
    "# df['label'] = df['label'].replace({'good': 2, 'neutral': 1, 'bad': -1})\n",
    "# df['label'] = df['label'].replace({'good': 2, 'neutral': 1, 'bad': 0.5})\n",
    "# df['label'] = df['label'].replace({'good': 1, 'neutral': 0.5, 'bad': 0})\n",
    "df['label'] = df['label'].replace({'good': 1, 'neutral': 0.5, 'bad': 0.1})\n",
    "\n",
    "\n",
    "# target = ((df['label'] * df['confidence']) + df['label']) / 2\n",
    "# target = df['label'] * df['confidence']\n",
    "# target = (df['label'] * df['confidence']) * (df['label'] + df['confidence']) # 84652\n",
    "target = ((df['confidence'] + 1) ** df['label']) - 1 # 84734\n",
    "df.insert(loc=len(df.columns), column='target', value=target)"
   ]
  },
  {
   "cell_type": "code",
   "execution_count": 8,
   "metadata": {},
   "outputs": [
    {
     "data": {
      "text/html": [
       "<div>\n",
       "<style scoped>\n",
       "    .dataframe tbody tr th:only-of-type {\n",
       "        vertical-align: middle;\n",
       "    }\n",
       "\n",
       "    .dataframe tbody tr th {\n",
       "        vertical-align: top;\n",
       "    }\n",
       "\n",
       "    .dataframe thead th {\n",
       "        text-align: right;\n",
       "    }\n",
       "</style>\n",
       "<table border=\"1\" class=\"dataframe\">\n",
       "  <thead>\n",
       "    <tr style=\"text-align: right;\">\n",
       "      <th></th>\n",
       "      <th>context_id</th>\n",
       "      <th>reply_id</th>\n",
       "      <th>context_total</th>\n",
       "      <th>reply</th>\n",
       "      <th>label</th>\n",
       "      <th>confidence</th>\n",
       "      <th>target</th>\n",
       "    </tr>\n",
       "  </thead>\n",
       "  <tbody>\n",
       "    <tr>\n",
       "      <th>8594</th>\n",
       "      <td>24053383406932</td>\n",
       "      <td>0</td>\n",
       "      <td>без продовольствия они умрут через несколько дней</td>\n",
       "      <td>эти люди должны умереть</td>\n",
       "      <td>0.1</td>\n",
       "      <td>0.979127</td>\n",
       "      <td>0.070650</td>\n",
       "    </tr>\n",
       "    <tr>\n",
       "      <th>37566</th>\n",
       "      <td>108286787571541</td>\n",
       "      <td>0</td>\n",
       "      <td>возможно  у вас это уже давно цирроз может быт...</td>\n",
       "      <td>нет  ты получишь его в другом месте  типа желу...</td>\n",
       "      <td>0.1</td>\n",
       "      <td>0.883504</td>\n",
       "      <td>0.065361</td>\n",
       "    </tr>\n",
       "    <tr>\n",
       "      <th>66977</th>\n",
       "      <td>192805717488846</td>\n",
       "      <td>1</td>\n",
       "      <td>чего ты уставилась куда ты идёшь привет</td>\n",
       "      <td>приветик</td>\n",
       "      <td>1.0</td>\n",
       "      <td>0.951586</td>\n",
       "      <td>0.951586</td>\n",
       "    </tr>\n",
       "    <tr>\n",
       "      <th>27066</th>\n",
       "      <td>78279840145002</td>\n",
       "      <td>1</td>\n",
       "      <td>это  конечно  очень печально  но по  моему это...</td>\n",
       "      <td>к полиции у всех особое отношение  да</td>\n",
       "      <td>0.1</td>\n",
       "      <td>0.946034</td>\n",
       "      <td>0.068846</td>\n",
       "    </tr>\n",
       "    <tr>\n",
       "      <th>31147</th>\n",
       "      <td>90261473486218</td>\n",
       "      <td>2</td>\n",
       "      <td>крутящий момент</td>\n",
       "      <td>ну инструмент да  вынули</td>\n",
       "      <td>0.1</td>\n",
       "      <td>0.945948</td>\n",
       "      <td>0.068841</td>\n",
       "    </tr>\n",
       "    <tr>\n",
       "      <th>32205</th>\n",
       "      <td>93011226033624</td>\n",
       "      <td>3</td>\n",
       "      <td>тебе просто надо быть сильнее этоготебе легко ...</td>\n",
       "      <td>я могу рассказать тебе все</td>\n",
       "      <td>1.0</td>\n",
       "      <td>0.963285</td>\n",
       "      <td>0.963285</td>\n",
       "    </tr>\n",
       "    <tr>\n",
       "      <th>77950</th>\n",
       "      <td>225045907767189</td>\n",
       "      <td>0</td>\n",
       "      <td>купил его</td>\n",
       "      <td>купил</td>\n",
       "      <td>1.0</td>\n",
       "      <td>0.908537</td>\n",
       "      <td>0.908537</td>\n",
       "    </tr>\n",
       "    <tr>\n",
       "      <th>6812</th>\n",
       "      <td>18760028901671</td>\n",
       "      <td>3</td>\n",
       "      <td>сюзан  что  черт возьми  ты делаешь когда ты с...</td>\n",
       "      <td>какие обвинения</td>\n",
       "      <td>0.1</td>\n",
       "      <td>0.559299</td>\n",
       "      <td>0.045425</td>\n",
       "    </tr>\n",
       "    <tr>\n",
       "      <th>78661</th>\n",
       "      <td>226709352853168</td>\n",
       "      <td>5</td>\n",
       "      <td>кармилла пайнс и ты отправил к ней хоули</td>\n",
       "      <td>да  забрал</td>\n",
       "      <td>0.1</td>\n",
       "      <td>0.987342</td>\n",
       "      <td>0.071093</td>\n",
       "    </tr>\n",
       "    <tr>\n",
       "      <th>52701</th>\n",
       "      <td>151661888072034</td>\n",
       "      <td>4</td>\n",
       "      <td>скажи им  что я сбежала я не буду лгать ради т...</td>\n",
       "      <td>ладно</td>\n",
       "      <td>0.5</td>\n",
       "      <td>0.880461</td>\n",
       "      <td>0.371299</td>\n",
       "    </tr>\n",
       "  </tbody>\n",
       "</table>\n",
       "</div>"
      ],
      "text/plain": [
       "            context_id  reply_id  \\\n",
       "8594    24053383406932         0   \n",
       "37566  108286787571541         0   \n",
       "66977  192805717488846         1   \n",
       "27066   78279840145002         1   \n",
       "31147   90261473486218         2   \n",
       "32205   93011226033624         3   \n",
       "77950  225045907767189         0   \n",
       "6812    18760028901671         3   \n",
       "78661  226709352853168         5   \n",
       "52701  151661888072034         4   \n",
       "\n",
       "                                           context_total  \\\n",
       "8594   без продовольствия они умрут через несколько дней   \n",
       "37566  возможно  у вас это уже давно цирроз может быт...   \n",
       "66977            чего ты уставилась куда ты идёшь привет   \n",
       "27066  это  конечно  очень печально  но по  моему это...   \n",
       "31147                                    крутящий момент   \n",
       "32205  тебе просто надо быть сильнее этоготебе легко ...   \n",
       "77950                                          купил его   \n",
       "6812   сюзан  что  черт возьми  ты делаешь когда ты с...   \n",
       "78661           кармилла пайнс и ты отправил к ней хоули   \n",
       "52701  скажи им  что я сбежала я не буду лгать ради т...   \n",
       "\n",
       "                                                   reply  label  confidence  \\\n",
       "8594                             эти люди должны умереть    0.1    0.979127   \n",
       "37566  нет  ты получишь его в другом месте  типа желу...    0.1    0.883504   \n",
       "66977                                           приветик    1.0    0.951586   \n",
       "27066              к полиции у всех особое отношение  да    0.1    0.946034   \n",
       "31147                           ну инструмент да  вынули    0.1    0.945948   \n",
       "32205                         я могу рассказать тебе все    1.0    0.963285   \n",
       "77950                                              купил    1.0    0.908537   \n",
       "6812                                     какие обвинения    0.1    0.559299   \n",
       "78661                                         да  забрал    0.1    0.987342   \n",
       "52701                                              ладно    0.5    0.880461   \n",
       "\n",
       "         target  \n",
       "8594   0.070650  \n",
       "37566  0.065361  \n",
       "66977  0.951586  \n",
       "27066  0.068846  \n",
       "31147  0.068841  \n",
       "32205  0.963285  \n",
       "77950  0.908537  \n",
       "6812   0.045425  \n",
       "78661  0.071093  \n",
       "52701  0.371299  "
      ]
     },
     "execution_count": 8,
     "metadata": {},
     "output_type": "execute_result"
    }
   ],
   "source": [
    "df.sample(10)"
   ]
  },
  {
   "cell_type": "code",
   "execution_count": 120,
   "metadata": {},
   "outputs": [],
   "source": [
    "# content = df['context_total'].append(df['reply']).append(data_final['context_total']).append(data_final['reply'])\n",
    "# content = df['context_2'].append(df['context_1']).append(df['context_0']).append(data_final['context_2']).append(data_final['context_1']).append(data_final['context_0'])\n",
    "content = df['context_total'].append(data_final['context_total'])"
   ]
  },
  {
   "cell_type": "code",
   "execution_count": 121,
   "metadata": {},
   "outputs": [
    {
     "data": {
      "text/plain": [
       "(97533,)"
      ]
     },
     "execution_count": 121,
     "metadata": {},
     "output_type": "execute_result"
    }
   ],
   "source": [
    "content.shape"
   ]
  },
  {
   "cell_type": "code",
   "execution_count": 122,
   "metadata": {},
   "outputs": [],
   "source": [
    "tfidf = TfidfVectorizer(analyzer='char', ngram_range=(1, 4)).fit(content)\n",
    "# tfidf = TfidfVectorizer(ngram_range=(1, 2)).fit(content)"
   ]
  },
  {
   "cell_type": "code",
   "execution_count": 123,
   "metadata": {},
   "outputs": [
    {
     "data": {
      "text/plain": [
       "TfidfVectorizer(analyzer='char', binary=False, decode_error='strict',\n",
       "        dtype=<class 'numpy.int64'>, encoding='utf-8', input='content',\n",
       "        lowercase=True, max_df=1.0, max_features=None, min_df=1,\n",
       "        ngram_range=(1, 4), norm='l2', preprocessor=None, smooth_idf=True,\n",
       "        stop_words=None, strip_accents=None, sublinear_tf=False,\n",
       "        token_pattern='(?u)\\\\b\\\\w\\\\w+\\\\b', tokenizer=None, use_idf=True,\n",
       "        vocabulary=None)"
      ]
     },
     "execution_count": 123,
     "metadata": {},
     "output_type": "execute_result"
    }
   ],
   "source": [
    "tfidf"
   ]
  },
  {
   "cell_type": "code",
   "execution_count": 1940,
   "metadata": {},
   "outputs": [],
   "source": [
    "# df_cut = df[df.confidence >= 0.7]\n",
    "# df_cut = df[df.confidence >= 0.9]\n",
    "# df_cut = df[df.confidence >= 0.5]"
   ]
  },
  {
   "cell_type": "code",
   "execution_count": 138,
   "metadata": {},
   "outputs": [],
   "source": [
    "# tfidf_2 = tfidf.transform(df_cut['reply'])\n",
    "tfidf_2 = tfidf.transform(df['reply'])\n",
    "\n",
    "tfidf_f2 = tfidf.transform(data_final['reply'])"
   ]
  },
  {
   "cell_type": "code",
   "execution_count": 139,
   "metadata": {},
   "outputs": [],
   "source": [
    "X_train = hstack([tfidf_2]).tocsr()\n",
    "X_final = hstack([tfidf_f2]).tocsr()"
   ]
  },
  {
   "cell_type": "code",
   "execution_count": 140,
   "metadata": {},
   "outputs": [],
   "source": [
    "# y_train = df_cut['target']\n",
    "y_train = df['target']"
   ]
  },
  {
   "cell_type": "code",
   "execution_count": 141,
   "metadata": {},
   "outputs": [],
   "source": [
    "# train_part_size = int(0.75 * df_cut['target'].shape[0])\n",
    "train_part_size = int(0.75 * df['target'].shape[0])\n",
    "X_train_part = X_train[:train_part_size, :]\n",
    "y_train_part = y_train[:train_part_size]\n",
    "X_valid =  X_train[train_part_size:, :]\n",
    "y_valid = y_train[train_part_size:]"
   ]
  },
  {
   "cell_type": "code",
   "execution_count": 142,
   "metadata": {},
   "outputs": [
    {
     "data": {
      "text/plain": [
       "((73149, 55974), (73149,))"
      ]
     },
     "execution_count": 142,
     "metadata": {},
     "output_type": "execute_result"
    }
   ],
   "source": [
    "X_train_part.shape, y_train_part.shape"
   ]
  },
  {
   "cell_type": "code",
   "execution_count": 143,
   "metadata": {},
   "outputs": [
    {
     "data": {
      "text/plain": [
       "Ridge(alpha=4.62, copy_X=True, fit_intercept=True, max_iter=None,\n",
       "   normalize=False, random_state=10, solver='auto', tol=0.001)"
      ]
     },
     "execution_count": 143,
     "metadata": {},
     "output_type": "execute_result"
    }
   ],
   "source": [
    "from sklearn.linear_model import Ridge, SGDRegressor, HuberRegressor\n",
    "\n",
    "# reg = Ridge(alpha=4.62, random_state=10) [model_03][85506]\n",
    "# reg = SGDRegressor(max_iter=1000, power_t=0.1, random_state=10) [model_05][85334]\n",
    "# reg = HuberRegressor(epsilon=1.5) [model_06][84937]\n",
    "\n",
    "reg = Ridge(alpha=4.62, random_state=10)\n",
    "reg.fit(X_train_part, y_train_part)"
   ]
  },
  {
   "cell_type": "code",
   "execution_count": 144,
   "metadata": {},
   "outputs": [],
   "source": [
    "reg_pred = reg.predict(X_valid)"
   ]
  },
  {
   "cell_type": "code",
   "execution_count": 145,
   "metadata": {},
   "outputs": [
    {
     "name": "stdout",
     "output_type": "stream",
     "text": [
      "explained_variance_score:  0.003017984877768942\n",
      "r2_score:                  0.003015982849911669\n",
      "mean_absolute_error:       0.36029668753500876\n",
      "median_absolute_error:     0.3876188045666219\n",
      "mean_squared_error:        0.15012269746911475\n",
      "mean_squared_log_error:    0.0715856616944283\n",
      "\n",
      "completeness_score:        0.9649622270240542\n",
      "v_measure_score:           0.8849234556501944\n",
      "homogeneity_score:         0.8171453518409748\n",
      "adjusted_rand_score:       0.01749696729613996\n"
     ]
    }
   ],
   "source": [
    "print('explained_variance_score: ', mr.explained_variance_score(y_valid, reg_pred))\n",
    "print('r2_score:                 ', mr.r2_score(y_valid, reg_pred))\n",
    "print('mean_absolute_error:      ', mr.mean_absolute_error(y_valid, reg_pred))\n",
    "print('median_absolute_error:    ', mr.median_absolute_error(y_valid, reg_pred))\n",
    "print('mean_squared_error:       ', mr.mean_squared_error(y_valid, reg_pred))\n",
    "print('mean_squared_log_error:   ', mr.mean_squared_log_error(y_valid, reg_pred))\n",
    "print()\n",
    "print('completeness_score:       ', mr.completeness_score(y_valid, reg_pred))\n",
    "print('v_measure_score:          ', mr.v_measure_score(y_valid, reg_pred))\n",
    "print('homogeneity_score:        ', mr.homogeneity_score(y_valid, reg_pred))\n",
    "print('adjusted_rand_score:      ', mr.adjusted_rand_score(y_valid, reg_pred))"
   ]
  },
  {
   "cell_type": "code",
   "execution_count": 146,
   "metadata": {},
   "outputs": [
    {
     "data": {
      "text/plain": [
       "((97533, 55974), (104834, 55974))"
      ]
     },
     "execution_count": 146,
     "metadata": {},
     "output_type": "execute_result"
    }
   ],
   "source": [
    "X_train.shape, X_final.shape"
   ]
  },
  {
   "cell_type": "code",
   "execution_count": 147,
   "metadata": {},
   "outputs": [
    {
     "data": {
      "text/plain": [
       "Ridge(alpha=4.62, copy_X=True, fit_intercept=True, max_iter=None,\n",
       "   normalize=False, random_state=10, solver='auto', tol=0.001)"
      ]
     },
     "execution_count": 147,
     "metadata": {},
     "output_type": "execute_result"
    }
   ],
   "source": [
    "reg.fit(X_train, y_train)"
   ]
  },
  {
   "cell_type": "code",
   "execution_count": 148,
   "metadata": {},
   "outputs": [],
   "source": [
    "y_final = reg.predict(X_final)"
   ]
  },
  {
   "cell_type": "code",
   "execution_count": 149,
   "metadata": {},
   "outputs": [],
   "source": [
    "sub = pd.DataFrame()\n",
    "sub['context_id'] = data_final['context_id']\n",
    "sub['reply_id'] = data_final['reply_id']\n",
    "sub['rank'] = y_final"
   ]
  },
  {
   "cell_type": "code",
   "execution_count": 1929,
   "metadata": {},
   "outputs": [],
   "source": [
    "# ridge world n_gram 1,2\n",
    "sub_1 = pd.DataFrame()\n",
    "sub_1['rank'] = y_final"
   ]
  },
  {
   "cell_type": "code",
   "execution_count": 1805,
   "metadata": {},
   "outputs": [],
   "source": [
    "# ridge char n_gram 1,4\n",
    "sub_2 = pd.DataFrame()\n",
    "sub_2['rank'] = y_final"
   ]
  },
  {
   "cell_type": "code",
   "execution_count": 2221,
   "metadata": {},
   "outputs": [],
   "source": [
    "# sdg char n_gram 1,4\n",
    "sub_3 = pd.DataFrame()\n",
    "sub_3['rank'] = y_final"
   ]
  },
  {
   "cell_type": "code",
   "execution_count": 1953,
   "metadata": {},
   "outputs": [],
   "source": [
    "# ridge 10% char n_gram 1,4 (85506)\n",
    "sub_4 = pd.DataFrame()\n",
    "sub_4['rank'] = y_final"
   ]
  },
  {
   "cell_type": "code",
   "execution_count": 2276,
   "metadata": {},
   "outputs": [],
   "source": [
    "# sdg world n_gram 1,2\n",
    "sub_5 = pd.DataFrame()\n",
    "sub_5['rank'] = y_final"
   ]
  },
  {
   "cell_type": "code",
   "execution_count": 2371,
   "metadata": {},
   "outputs": [],
   "source": [
    "# huber world n_gram 1,2\n",
    "sub_6 = pd.DataFrame()\n",
    "sub_6['rank'] = y_final"
   ]
  },
  {
   "cell_type": "code",
   "execution_count": 2392,
   "metadata": {},
   "outputs": [],
   "source": [
    "# huber char n_gram 1,4\n",
    "sub_7 = pd.DataFrame()\n",
    "sub_7['rank'] = y_final"
   ]
  },
  {
   "cell_type": "code",
   "execution_count": 2431,
   "metadata": {},
   "outputs": [],
   "source": [
    "# sub['rank'] = sub_1['rank'] + sub_2['rank'] + sub_7['rank'] + sub_6['rank']\n",
    "sub['rank'] = sub_1['rank'] + sub_2['rank'] + sub_3['rank'] + sub_5['rank'] + sub_6['rank'] + sub_7['rank'] + sub_4['rank']"
   ]
  },
  {
   "cell_type": "code",
   "execution_count": 150,
   "metadata": {},
   "outputs": [],
   "source": [
    "submission = sub.sort_values(by=['context_id', 'rank'], ascending=[True, False])"
   ]
  },
  {
   "cell_type": "code",
   "execution_count": 151,
   "metadata": {},
   "outputs": [
    {
     "data": {
      "text/html": [
       "<div>\n",
       "<style scoped>\n",
       "    .dataframe tbody tr th:only-of-type {\n",
       "        vertical-align: middle;\n",
       "    }\n",
       "\n",
       "    .dataframe tbody tr th {\n",
       "        vertical-align: top;\n",
       "    }\n",
       "\n",
       "    .dataframe thead th {\n",
       "        text-align: right;\n",
       "    }\n",
       "</style>\n",
       "<table border=\"1\" class=\"dataframe\">\n",
       "  <thead>\n",
       "    <tr style=\"text-align: right;\">\n",
       "      <th></th>\n",
       "      <th>context_id</th>\n",
       "      <th>reply_id</th>\n",
       "      <th>rank</th>\n",
       "    </tr>\n",
       "  </thead>\n",
       "  <tbody>\n",
       "    <tr>\n",
       "      <th>0</th>\n",
       "      <td>4909294510</td>\n",
       "      <td>0</td>\n",
       "      <td>0.397245</td>\n",
       "    </tr>\n",
       "    <tr>\n",
       "      <th>1</th>\n",
       "      <td>4909294510</td>\n",
       "      <td>1</td>\n",
       "      <td>0.397245</td>\n",
       "    </tr>\n",
       "    <tr>\n",
       "      <th>2</th>\n",
       "      <td>4909294510</td>\n",
       "      <td>2</td>\n",
       "      <td>0.397245</td>\n",
       "    </tr>\n",
       "    <tr>\n",
       "      <th>3</th>\n",
       "      <td>4909294510</td>\n",
       "      <td>3</td>\n",
       "      <td>0.397245</td>\n",
       "    </tr>\n",
       "    <tr>\n",
       "      <th>4</th>\n",
       "      <td>4909294510</td>\n",
       "      <td>4</td>\n",
       "      <td>0.397245</td>\n",
       "    </tr>\n",
       "    <tr>\n",
       "      <th>5</th>\n",
       "      <td>4909294510</td>\n",
       "      <td>5</td>\n",
       "      <td>0.397245</td>\n",
       "    </tr>\n",
       "    <tr>\n",
       "      <th>6</th>\n",
       "      <td>15805100619</td>\n",
       "      <td>0</td>\n",
       "      <td>0.515302</td>\n",
       "    </tr>\n",
       "    <tr>\n",
       "      <th>7</th>\n",
       "      <td>15805100619</td>\n",
       "      <td>1</td>\n",
       "      <td>0.515302</td>\n",
       "    </tr>\n",
       "    <tr>\n",
       "      <th>8</th>\n",
       "      <td>15805100619</td>\n",
       "      <td>2</td>\n",
       "      <td>0.515302</td>\n",
       "    </tr>\n",
       "    <tr>\n",
       "      <th>9</th>\n",
       "      <td>15805100619</td>\n",
       "      <td>3</td>\n",
       "      <td>0.515302</td>\n",
       "    </tr>\n",
       "    <tr>\n",
       "      <th>10</th>\n",
       "      <td>15805100619</td>\n",
       "      <td>4</td>\n",
       "      <td>0.515302</td>\n",
       "    </tr>\n",
       "    <tr>\n",
       "      <th>11</th>\n",
       "      <td>15805100619</td>\n",
       "      <td>5</td>\n",
       "      <td>0.515302</td>\n",
       "    </tr>\n",
       "  </tbody>\n",
       "</table>\n",
       "</div>"
      ],
      "text/plain": [
       "     context_id  reply_id      rank\n",
       "0    4909294510         0  0.397245\n",
       "1    4909294510         1  0.397245\n",
       "2    4909294510         2  0.397245\n",
       "3    4909294510         3  0.397245\n",
       "4    4909294510         4  0.397245\n",
       "5    4909294510         5  0.397245\n",
       "6   15805100619         0  0.515302\n",
       "7   15805100619         1  0.515302\n",
       "8   15805100619         2  0.515302\n",
       "9   15805100619         3  0.515302\n",
       "10  15805100619         4  0.515302\n",
       "11  15805100619         5  0.515302"
      ]
     },
     "execution_count": 151,
     "metadata": {},
     "output_type": "execute_result"
    }
   ],
   "source": [
    "submission.head(12)"
   ]
  },
  {
   "cell_type": "code",
   "execution_count": 57,
   "metadata": {},
   "outputs": [
    {
     "data": {
      "text/html": [
       "<div>\n",
       "<style scoped>\n",
       "    .dataframe tbody tr th:only-of-type {\n",
       "        vertical-align: middle;\n",
       "    }\n",
       "\n",
       "    .dataframe tbody tr th {\n",
       "        vertical-align: top;\n",
       "    }\n",
       "\n",
       "    .dataframe thead th {\n",
       "        text-align: right;\n",
       "    }\n",
       "</style>\n",
       "<table border=\"1\" class=\"dataframe\">\n",
       "  <thead>\n",
       "    <tr style=\"text-align: right;\">\n",
       "      <th></th>\n",
       "      <th>context_id</th>\n",
       "      <th>reply_id</th>\n",
       "    </tr>\n",
       "  </thead>\n",
       "  <tbody>\n",
       "    <tr>\n",
       "      <th>4</th>\n",
       "      <td>4909294510</td>\n",
       "      <td>4</td>\n",
       "    </tr>\n",
       "    <tr>\n",
       "      <th>1</th>\n",
       "      <td>4909294510</td>\n",
       "      <td>1</td>\n",
       "    </tr>\n",
       "    <tr>\n",
       "      <th>2</th>\n",
       "      <td>4909294510</td>\n",
       "      <td>2</td>\n",
       "    </tr>\n",
       "    <tr>\n",
       "      <th>3</th>\n",
       "      <td>4909294510</td>\n",
       "      <td>3</td>\n",
       "    </tr>\n",
       "    <tr>\n",
       "      <th>5</th>\n",
       "      <td>4909294510</td>\n",
       "      <td>5</td>\n",
       "    </tr>\n",
       "    <tr>\n",
       "      <th>0</th>\n",
       "      <td>4909294510</td>\n",
       "      <td>0</td>\n",
       "    </tr>\n",
       "    <tr>\n",
       "      <th>11</th>\n",
       "      <td>15805100619</td>\n",
       "      <td>5</td>\n",
       "    </tr>\n",
       "    <tr>\n",
       "      <th>10</th>\n",
       "      <td>15805100619</td>\n",
       "      <td>4</td>\n",
       "    </tr>\n",
       "    <tr>\n",
       "      <th>6</th>\n",
       "      <td>15805100619</td>\n",
       "      <td>0</td>\n",
       "    </tr>\n",
       "    <tr>\n",
       "      <th>8</th>\n",
       "      <td>15805100619</td>\n",
       "      <td>2</td>\n",
       "    </tr>\n",
       "  </tbody>\n",
       "</table>\n",
       "</div>"
      ],
      "text/plain": [
       "     context_id  reply_id\n",
       "4    4909294510         4\n",
       "1    4909294510         1\n",
       "2    4909294510         2\n",
       "3    4909294510         3\n",
       "5    4909294510         5\n",
       "0    4909294510         0\n",
       "11  15805100619         5\n",
       "10  15805100619         4\n",
       "6   15805100619         0\n",
       "8   15805100619         2"
      ]
     },
     "execution_count": 57,
     "metadata": {},
     "output_type": "execute_result"
    }
   ],
   "source": [
    "del submission['rank']\n",
    "submission.head(10)"
   ]
  },
  {
   "cell_type": "code",
   "execution_count": 58,
   "metadata": {},
   "outputs": [],
   "source": [
    "submission.to_csv('final_151_model_11.tsv', header=None, index=False, sep=' ')"
   ]
  }
 ],
 "metadata": {
  "kernelspec": {
   "display_name": "Python 3",
   "language": "python",
   "name": "python3"
  },
  "language_info": {
   "codemirror_mode": {
    "name": "ipython",
    "version": 3
   },
   "file_extension": ".py",
   "mimetype": "text/x-python",
   "name": "python",
   "nbconvert_exporter": "python",
   "pygments_lexer": "ipython3",
   "version": "3.6.5"
  }
 },
 "nbformat": 4,
 "nbformat_minor": 2
}
